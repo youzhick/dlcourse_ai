{
 "cells": [
  {
   "cell_type": "markdown",
   "metadata": {},
   "source": [
    "# Задание 1.2 - Линейный классификатор (Linear classifier)\n",
    "\n",
    "В этом задании мы реализуем другую модель машинного обучения - линейный классификатор. Линейный классификатор подбирает для каждого класса веса, на которые нужно умножить значение каждого признака и потом сложить вместе.\n",
    "Тот класс, у которого эта сумма больше, и является предсказанием модели.\n",
    "\n",
    "В этом задании вы:\n",
    "- потренируетесь считать градиенты различных многомерных функций\n",
    "- реализуете подсчет градиентов через линейную модель и функцию потерь softmax\n",
    "- реализуете процесс тренировки линейного классификатора\n",
    "- подберете параметры тренировки на практике\n",
    "\n",
    "На всякий случай, еще раз ссылка на туториал по numpy:  \n",
    "http://cs231n.github.io/python-numpy-tutorial/"
   ]
  },
  {
   "cell_type": "code",
   "execution_count": 1,
   "metadata": {},
   "outputs": [],
   "source": [
    "import numpy as np\n",
    "import matplotlib.pyplot as plt\n",
    "\n",
    "%matplotlib inline\n",
    "\n",
    "%load_ext autoreload\n",
    "%autoreload 2"
   ]
  },
  {
   "cell_type": "code",
   "execution_count": 2,
   "metadata": {},
   "outputs": [],
   "source": [
    "from dataset import load_svhn, random_split_train_val\n",
    "from gradient_check import check_gradient\n",
    "from metrics import multiclass_accuracy \n",
    "import linear_classifer"
   ]
  },
  {
   "cell_type": "markdown",
   "metadata": {},
   "source": [
    "# Как всегда, первым делом загружаем данные\n",
    "\n",
    "Мы будем использовать все тот же SVHN."
   ]
  },
  {
   "cell_type": "code",
   "execution_count": 3,
   "metadata": {},
   "outputs": [],
   "source": [
    "def prepare_for_linear_classifier(train_X, test_X):\n",
    "    train_flat = train_X.reshape(train_X.shape[0], -1).astype(np.float) / 255.0\n",
    "    test_flat = test_X.reshape(test_X.shape[0], -1).astype(np.float) / 255.0\n",
    "    \n",
    "    # Subtract mean\n",
    "    mean_image = np.mean(train_flat, axis = 0)\n",
    "    train_flat -= mean_image\n",
    "    test_flat -= mean_image\n",
    "    \n",
    "    # Add another channel with ones as a bias term\n",
    "    train_flat_with_ones = np.hstack([train_flat, np.ones((train_X.shape[0], 1))])\n",
    "    test_flat_with_ones = np.hstack([test_flat, np.ones((test_X.shape[0], 1))])    \n",
    "    return train_flat_with_ones, test_flat_with_ones\n",
    "    \n",
    "#train_X, train_y, test_X, test_y = load_svhn(\"/Users/youzhick/Desktop/DL-AI/assignments/assignment1/data\", max_train=10000, max_test=1000)\n",
    "train_X, train_y, test_X, test_y = load_svhn(\"E:\\\\working/DL-AI\\\\assignments\\\\assignment1\\\\data\", max_train=10000, max_test=1000)\n",
    "\n",
    "train_X, test_X = prepare_for_linear_classifier(train_X, test_X)\n",
    "# Split train into train and val\n",
    "train_X, train_y, val_X, val_y = random_split_train_val(train_X, train_y, num_val = 1000)"
   ]
  },
  {
   "cell_type": "markdown",
   "metadata": {},
   "source": [
    "# Играемся с градиентами!\n",
    "\n",
    "В этом курсе мы будем писать много функций, которые вычисляют градиенты аналитическим методом.\n",
    "\n",
    "Все функции, в которых мы будем вычислять градиенты, будут написаны по одной и той же схеме.  \n",
    "Они будут получать на вход точку, где нужно вычислить значение и градиент функции, а на выходе будут выдавать кортеж (tuple) из двух значений - собственно значения функции в этой точке (всегда одно число) и аналитического значения градиента в той же точке (той же размерности, что и вход).\n",
    "```\n",
    "def f(x):\n",
    "    \"\"\"\n",
    "    Computes function and analytic gradient at x\n",
    "    \n",
    "    x: np array of float, input to the function\n",
    "    \n",
    "    Returns:\n",
    "    value: float, value of the function \n",
    "    grad: np array of float, same shape as x\n",
    "    \"\"\"\n",
    "    ...\n",
    "    \n",
    "    return value, grad\n",
    "```\n",
    "\n",
    "Необходимым инструментом во время реализации кода, вычисляющего градиенты, является функция его проверки. Эта функция вычисляет градиент численным методом и сверяет результат с градиентом, вычисленным аналитическим методом.\n",
    "\n",
    "Мы начнем с того, чтобы реализовать вычисление численного градиента (numeric gradient) в этой функции.\n",
    "Вычислите градиент с помощью численной производной для каждой координаты. Для вычисления производной используйте так называемую two-point formula (https://en.wikipedia.org/wiki/Numerical_differentiation):\n",
    "\n",
    "![image](https://wikimedia.org/api/rest_v1/media/math/render/svg/22fc2c0a66c63560a349604f8b6b39221566236d)\n"
   ]
  },
  {
   "cell_type": "code",
   "execution_count": 4,
   "metadata": {
    "scrolled": true
   },
   "outputs": [
    {
     "name": "stdout",
     "output_type": "stream",
     "text": [
      "Gradient check passed!\n",
      "Gradient check passed!\n",
      "Gradient check passed!\n"
     ]
    },
    {
     "data": {
      "text/plain": [
       "True"
      ]
     },
     "execution_count": 4,
     "metadata": {},
     "output_type": "execute_result"
    }
   ],
   "source": [
    "# TODO: Implement gradient check function\n",
    "def sqr(x):\n",
    "    return x*x, 2*x\n",
    "\n",
    "check_gradient(sqr, np.array([3.0]))\n",
    "\n",
    "def array_sum(x):\n",
    "    #assert x.shape == (2,), x.shape\n",
    "    return np.sum(x), np.ones_like(x)\n",
    "\n",
    "check_gradient(array_sum, np.array([3.0, 2.0]))\n",
    "\n",
    "def array_2d_sum(x):\n",
    "    assert x.shape == (2,2)\n",
    "    return np.sum(x), np.ones_like(x)\n",
    "\n",
    "check_gradient(array_2d_sum, np.array([[3.0, 2.0], [1.0, 0.0]]))"
   ]
  },
  {
   "cell_type": "markdown",
   "metadata": {},
   "source": [
    "Теперь реализуем функцию softmax, которая получает на вход оценки для каждого класса и преобразует их в вероятности от 0 до 1:\n",
    "![image](https://wikimedia.org/api/rest_v1/media/math/render/svg/e348290cf48ddbb6e9a6ef4e39363568b67c09d3)\n",
    "\n",
    "**Важно:** Практический аспект вычисления этой функции заключается в том, что в ней учавствует вычисление экспоненты от потенциально очень больших чисел - это может привести к очень большим значениям в числителе и знаменателе за пределами диапазона float.\n",
    "\n",
    "К счастью, у этой проблемы есть простое решение -- перед вычислением softmax вычесть из всех оценок максимальное значение среди всех оценок:\n",
    "```\n",
    "predictions -= np.max(predictions)\n",
    "```\n",
    "(подробнее здесь - http://cs231n.github.io/linear-classify/#softmax, секция `Practical issues: Numeric stability`)"
   ]
  },
  {
   "cell_type": "code",
   "execution_count": 5,
   "metadata": {},
   "outputs": [],
   "source": [
    "# TODO Implement softmax and cross-entropy for single sample\n",
    "probs = linear_classifer.softmax(np.array([-10, 0, 10]))\n",
    "\n",
    "# Make sure it works for big numbers too!\n",
    "probs = linear_classifer.softmax(np.array([1000, 0, 0]))\n",
    "assert np.isclose(probs[0], 1.0)"
   ]
  },
  {
   "cell_type": "markdown",
   "metadata": {},
   "source": [
    "Кроме этого, мы реализуем cross-entropy loss, которую мы будем использовать как функцию ошибки (error function).\n",
    "В общем виде cross-entropy определена следующим образом:\n",
    "![image](https://wikimedia.org/api/rest_v1/media/math/render/svg/0cb6da032ab424eefdca0884cd4113fe578f4293)\n",
    "\n",
    "где x - все классы, p(x) - истинная вероятность принадлежности сэмпла классу x, а q(x) - вероятность принадлежности классу x, предсказанная моделью.  \n",
    "В нашем случае сэмпл принадлежит только одному классу, индекс которого передается функции. Для него p(x) равна 1, а для остальных классов - 0. \n",
    "\n",
    "Это позволяет реализовать функцию проще!"
   ]
  },
  {
   "cell_type": "code",
   "execution_count": 6,
   "metadata": {},
   "outputs": [
    {
     "name": "stdout",
     "output_type": "stream",
     "text": [
      "5.006760443547122\n"
     ]
    },
    {
     "data": {
      "text/plain": [
       "2.5126198730708893"
      ]
     },
     "execution_count": 6,
     "metadata": {},
     "output_type": "execute_result"
    }
   ],
   "source": [
    "probs = linear_classifer.softmax(np.array([-5, 0, 5]))\n",
    "#linear_classifer.cross_entropy_loss(probs, np.array([1]))\n",
    "print(linear_classifer.cross_entropy_loss(probs, 1))\n",
    "\n",
    "\n",
    "probs = linear_classifer.softmax(np.array([[-5, 0, 5], [-3, 1, 5]]))\n",
    "linear_classifer.cross_entropy_loss(probs, np.array([1, 2]))"
   ]
  },
  {
   "cell_type": "markdown",
   "metadata": {},
   "source": [
    "После того как мы реализовали сами функции, мы можем реализовать градиент.\n",
    "\n",
    "Оказывается, что вычисление градиента становится гораздо проще, если объединить эти функции в одну, которая сначала вычисляет вероятности через softmax, а потом использует их для вычисления функции ошибки через cross-entropy loss.\n",
    "\n",
    "Эта функция `softmax_with_cross_entropy` будет возвращает и значение ошибки, и градиент по входным параметрам. Мы проверим корректность реализации с помощью `check_gradient`."
   ]
  },
  {
   "cell_type": "code",
   "execution_count": 7,
   "metadata": {},
   "outputs": [
    {
     "name": "stdout",
     "output_type": "stream",
     "text": [
      "Gradient check passed!\n"
     ]
    },
    {
     "data": {
      "text/plain": [
       "True"
      ]
     },
     "execution_count": 7,
     "metadata": {},
     "output_type": "execute_result"
    }
   ],
   "source": [
    "# TODO Implement combined function or softmax and cross entropy and produces gradient\n",
    "loss, grad = linear_classifer.softmax_with_cross_entropy(np.array([1, 0, 0]), 1)\n",
    "check_gradient(lambda x: linear_classifer.softmax_with_cross_entropy(x, 1), np.array([1, 0, 0], np.float))"
   ]
  },
  {
   "cell_type": "markdown",
   "metadata": {},
   "source": [
    "В качестве метода тренировки мы будем использовать стохастический градиентный спуск (stochastic gradient descent или SGD), который работает с батчами сэмплов. \n",
    "\n",
    "Поэтому все наши фукнции будут получать не один пример, а батч, то есть входом будет не вектор из `num_classes` оценок, а матрица размерности `batch_size, num_classes`. Индекс примера в батче всегда будет первым измерением.\n",
    "\n",
    "Следующий шаг - переписать наши функции так, чтобы они поддерживали батчи.\n",
    "\n",
    "Финальное значение функции ошибки должно остаться числом, и оно равно среднему значению ошибки среди всех примеров в батче."
   ]
  },
  {
   "cell_type": "code",
   "execution_count": 8,
   "metadata": {
    "scrolled": true
   },
   "outputs": [
    {
     "name": "stdout",
     "output_type": "stream",
     "text": [
      "Gradient check passed!\n",
      "Gradient check passed!\n"
     ]
    },
    {
     "data": {
      "text/plain": [
       "True"
      ]
     },
     "execution_count": 8,
     "metadata": {},
     "output_type": "execute_result"
    }
   ],
   "source": [
    "# TODO Extend combined function so it can receive a 2d array with batch of samples\n",
    "\n",
    "# Test batch_size = 1\n",
    "batch_size = 1\n",
    "predictions = np.zeros((batch_size, 3))\n",
    "target_index = np.ones(batch_size, np.int)\n",
    "check_gradient(lambda x: linear_classifer.softmax_with_cross_entropy(x, target_index), predictions)\n",
    "\n",
    "# Test batch_size = 3\n",
    "batch_size = 3\n",
    "predictions = np.zeros((batch_size, 3))\n",
    "target_index = np.ones(batch_size, np.int)\n",
    "check_gradient(lambda x: linear_classifer.softmax_with_cross_entropy(x, target_index), predictions)"
    "#predictions = np.random.randint(-1, 3, size=(batch_size, num_classes)).astype(np.float)\n",
    "#target_index = np.random.randint(0, num_classes, size=(batch_size, 1)).astype(np.int)\n",
    "#check_gradient(lambda x: linear_classifer.softmax_with_cross_entropy(x, target_index), predictions)\n",
    "\n",
    "# Make sure maximum subtraction for numberic stability is done separately for every sample in the batch\n",
    "probs = linear_classifer.softmax(np.array([[20,0,0], [1000, 0, 0]]))\n",
    "assert np.all(np.isclose(probs[:, 0], 1.0))"
   ]
  },
  {
   "cell_type": "markdown",
   "metadata": {},
   "source": [
    "### Наконец, реализуем сам линейный классификатор!\n",
    "\n",
    "softmax и cross-entropy получают на вход оценки, которые выдает линейный классификатор.\n",
    "\n",
    "Он делает это очень просто: для каждого класса есть набор весов, на которые надо умножить пиксели картинки и сложить. Получившееся число и является оценкой класса, идущей на вход softmax.\n",
    "\n",
    "Таким образом, линейный классификатор можно представить как умножение вектора с пикселями на матрицу W размера `num_features, num_classes`. Такой подход легко расширяется на случай батча векторов с пикселями X размера `batch_size, num_features`:\n",
    "\n",
    "`predictions = X * W`, где `*` - матричное умножение.\n",
    "\n",
    "Реализуйте функцию подсчета линейного классификатора и градиентов по весам `linear_softmax` в файле `linear_classifer.py`"
   ]
  },
  {
   "cell_type": "code",
   "execution_count": 9,
   "metadata": {},
   "outputs": [
    {
     "name": "stdout",
     "output_type": "stream",
     "text": [
      "Gradient check passed!\n"
     ]
    },
    {
     "data": {
      "text/plain": [
       "True"
      ]
     },
     "execution_count": 9,
     "metadata": {},
     "output_type": "execute_result"
    }
   ],
   "source": [
    "# TODO Implement linear_softmax function that uses softmax with cross-entropy for linear classifier\n",
    "batch_size = 10\n",
    "num_classes = 2\n",
    "num_features = 3\n",
    "np.random.seed(42)\n",
    "W = np.random.randint(-1, 3, size=(num_features, num_classes)).astype(np.float)\n",
    "X = np.random.randint(-1, 3, size=(batch_size, num_features)).astype(np.float)\n",
    "target_index = np.ones(batch_size, dtype=np.int)\n",
    "\n",
    "loss, dW = linear_classifer.linear_softmax(X, W, target_index)\n",
    "check_gradient(lambda w: linear_classifer.linear_softmax(X, w, target_index), W)"
   ]
  },
  {
   "cell_type": "markdown",
   "metadata": {},
   "source": [
    "### И теперь регуляризация\n",
    "\n",
    "Мы будем использовать L2 regularization для весов как часть общей функции ошибки.\n",
    "\n",
    "Напомним, L2 regularization определяется как\n",
    "\n",
    "l2_reg_loss = regularization_strength * sum<sub>ij</sub> W[i, j]<sup>2</sup>\n",
    "\n",
    "Реализуйте функцию для его вычисления и вычисления соотвествующих градиентов."
   ]
  },
  {
   "cell_type": "code",
   "execution_count": 10,
   "metadata": {},
   "outputs": [
    {
     "name": "stdout",
     "output_type": "stream",
     "text": [
      "Gradient check passed!\n"
     ]
    },
    {
     "data": {
      "text/plain": [
       "True"
      ]
     },
     "execution_count": 10,
     "metadata": {},
     "output_type": "execute_result"
    }
   ],
   "source": [
    "# TODO Implement l2_regularization function that implements loss for L2 regularization\n",
    "linear_classifer.l2_regularization(W, 0.01)\n",
    "check_gradient(lambda w: linear_classifer.l2_regularization(w, 0.01), W)"
   ]
  },
  {
   "cell_type": "markdown",
   "metadata": {},
   "source": [
    "# Тренировка!"
   ]
  },
  {
   "cell_type": "markdown",
   "metadata": {},
   "source": [
    "Градиенты в порядке, реализуем процесс тренировки!"
   ]
  },
  {
   "cell_type": "code",
   "execution_count": 11,
   "metadata": {
    "scrolled": false
   },
   "outputs": [
    {
     "name": "stdout",
     "output_type": "stream",
     "text": [
      "Epoch 0, loss: 2.608912\n"
     ]
    }
   ],
   "source": [
    "# TODO: Implement LinearSoftmaxClassifier.fit function\n",
    "classifier = linear_classifer.LinearSoftmaxClassifier()\n",
    "loss_history = classifier.fit(train_X, train_y, epochs=10, learning_rate=1e-3, batch_size=300, reg=1e1)"
   ]
  },
  {
   "cell_type": "code",
   "execution_count": 12,
   "metadata": {},
   "outputs": [
    {
     "data": {
      "text/plain": [
       "[<matplotlib.lines.Line2D at 0x2488ea9b0f0>]"
      ]
     },
     "execution_count": 12,
     "metadata": {},
     "output_type": "execute_result"
    },
    {
     "data": {
      "image/png": "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\n",
      "text/plain": [
       "<Figure size 432x288 with 1 Axes>"
      ]
     },
     "metadata": {
      "needs_background": "light"
     },
     "output_type": "display_data"
    }
   ],
   "source": [
    "# let's look at the loss history!\n",
    "plt.plot(loss_history)"
   ]
  },
  {
   "cell_type": "code",
   "execution_count": 13,
   "metadata": {},
   "outputs": [
    {
     "name": "stdout",
     "output_type": "stream",
     "text": [
      "Initial accuracy:  0.103\n",
      "Epoch 0, loss: 2.507500\n",
      "Epoch 10, loss: 2.438917\n",
      "Epoch 20, loss: 2.393154\n",
      "Epoch 30, loss: 2.363404\n",
      "Epoch 40, loss: 2.342531\n",
      "Epoch 50, loss: 2.328732\n",
      "Epoch 60, loss: 2.319992\n",
      "Epoch 70, loss: 2.314026\n",
      "Epoch 80, loss: 2.309795\n",
      "Epoch 90, loss: 2.307516\n",
      "Accuracy after training for 100 epochs:  0.142\n"
     ]
    }
   ],
   "source": [
    "# Let's check how it performs on validation set\n",
    "pred = classifier.predict(val_X)\n",
    "accuracy = multiclass_accuracy(pred, val_y)\n",
    "print(\"Initial accuracy: \", accuracy)\n",
    "\n",
    "# Now, let's train more and see if it performs better\n",
    "loss_history.extend(classifier.fit(train_X, train_y, epochs=100, learning_rate=1e-3, batch_size=300, reg=1e1))\n",
    "pred = classifier.predict(val_X)\n",
    "accuracy = multiclass_accuracy(pred, val_y)\n",
    "print(\"Accuracy after training for 100 epochs: \", accuracy)"
   ]
  },
  {
   "cell_type": "code",
   "execution_count": 14,
   "metadata": {},
   "outputs": [
    {
     "data": {
      "text/plain": [
       "[<matplotlib.lines.Line2D at 0x2488eb1df28>]"
      ]
     },
     "execution_count": 14,
     "metadata": {},
     "output_type": "execute_result"
    },
    {
     "data": {
      "image/png": "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\n",
      "text/plain": [
       "<Figure size 432x288 with 1 Axes>"
      ]
     },
     "metadata": {
      "needs_background": "light"
     },
     "output_type": "display_data"
    }
   ],
   "source": [
    "# Draw a longer version\n",
    "plt.plot(loss_history)"
   ]
  },
  {
   "cell_type": "markdown",
   "metadata": {},
   "source": [
    "### Как и раньше, используем кросс-валидацию для подбора гиперпараметтов.\n",
    "\n",
    "В этот раз, чтобы тренировка занимала разумное время, мы будем использовать только одно разделение на тренировочные (training) и проверочные (validation) данные.\n",
    "\n",
    "Теперь нам нужно подобрать не один, а два гиперпараметра! Не ограничивайте себя изначальными значениями в коде.  \n",
    "Добейтесь точности более чем **20%** на проверочных данных (validation data)."
   ]
  },
  {
   "cell_type": "code",
   "execution_count": 15,
   "metadata": {},
   "outputs": [
    {
     "name": "stdout",
     "output_type": "stream",
     "text": [
      "Cur accuracy (0.050000, 0.000500): 0.219000\n",
      "Cur accuracy (0.050000, 0.001000): 0.217000\n",
      "Cur accuracy (0.050000, 0.001500): 0.219000\n",
      "Cur accuracy (0.100000, 0.000500): 0.223000\n",
      "Cur accuracy (0.100000, 0.001000): 0.223000\n",
      "Cur accuracy (0.100000, 0.001500): 0.226000\n",
      "Cur accuracy (0.150000, 0.000500): 0.237000\n",
      "Cur accuracy (0.150000, 0.001000): 0.229000\n",
      "Cur accuracy (0.150000, 0.001500): 0.227000\n",
      "best validation accuracy achieved: 0.237000\n"
     ]
    }
   ],
   "source": [
    "num_epochs = 200\n",
    "batch_size = 300\n",
    "\n",
    "#learning_rates = [1e-3, 1e-4, 1e-5]\n",
    "#reg_strengths = [1e-4, 1e-5, 1e-6]\n",
    "\n",
    "#learning_rates = [0.9, 1e-1, 1e-2, 1e-3]\n",
    "#reg_strengths = [0.9, 1e-1, 1e-2, 1e-3, 1e-4, 1e-5, 1e-6, 1e-7]\n",
    "\n",
    "learning_rates = [1e-1 - 5e-2, 1e-1, 1e-1 + 5e-2]\n",
    "reg_strengths = [1e-3 - 5e-4, 1e-3, 1e-3 + 5e-4]\n",
    "\n",
    "best_classifier = None\n",
    "best_val_accuracy = None\n",
    "\n",
    "for rate in learning_rates:\n",
    "    for reg in reg_strengths:\n",
    "        classifier = linear_classifer.LinearSoftmaxClassifier()\n",
    "        classifier.fit(train_X, train_y, epochs=num_epochs, learning_rate=rate, batch_size=batch_size, reg=reg, quiet=True)\n",
    "        pred = classifier.predict(val_X)\n",
    "        accuracy = multiclass_accuracy(pred, val_y)\n",
    "        if best_val_accuracy is None or accuracy > best_val_accuracy:\n",
    "            best_val_accuracy = accuracy\n",
    "            best_classifier = classifier\n",
    "        print(\"Cur accuracy (%f, %f): %f\" % (rate, reg, accuracy))\n",
    "\n",
    "\n",
    "# TODO use validation set to find the best hyperparameters\n",
    "# hint: for best results, you might need to try more values for learning rate and regularization strength \n",
    "# than provided initially\n",
    "\n",
    "print('best validation accuracy achieved: %f' % best_val_accuracy)"
   ]
  },
  {
   "cell_type": "markdown",
   "metadata": {},
   "source": [
    "# Какой же точности мы добились на тестовых данных?"
   ]
  },
  {
   "cell_type": "code",
   "execution_count": 16,
   "metadata": {},
   "outputs": [
    {
     "name": "stdout",
     "output_type": "stream",
     "text": [
      "Linear softmax classifier test set accuracy: 0.233000\n"
     ]
    }
   ],
   "source": [
    "test_pred = best_classifier.predict(test_X)\n",
    "test_accuracy = multiclass_accuracy(test_pred, test_y)\n",
    "print('Linear softmax classifier test set accuracy: %f' % (test_accuracy, ))"
   ]
  }
 ],
 "metadata": {
  "kernelspec": {
   "display_name": "Python 3",
   "language": "python",
   "name": "python3"
  },
  "language_info": {
   "codemirror_mode": {
    "name": "ipython",
    "version": 3
   },
   "file_extension": ".py",
   "mimetype": "text/x-python",
   "name": "python",
   "nbconvert_exporter": "python",
   "pygments_lexer": "ipython3",
   "version": "3.6.8"
  }
 },
 "nbformat": 4,
 "nbformat_minor": 2
}
