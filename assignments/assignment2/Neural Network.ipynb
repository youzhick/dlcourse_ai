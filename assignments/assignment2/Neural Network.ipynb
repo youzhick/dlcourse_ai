{
 "cells": [
  {
   "cell_type": "markdown",
   "metadata": {},
   "source": [
    "# Задание 2.1 - Нейронные сети\n",
    "\n",
    "В этом задании вы реализуете и натренируете настоящую нейроную сеть своими руками!\n",
    "\n",
    "В некотором смысле это будет расширением прошлого задания - нам нужно просто составить несколько линейных классификаторов вместе!\n",
    "\n",
    "<img src=\"https://i.redd.it/n9fgba8b0qr01.png\" alt=\"Stack_more_layers\" width=\"400px\"/>"
   ]
  },
  {
   "cell_type": "code",
   "execution_count": 1,
   "metadata": {},
   "outputs": [],
   "source": [
    "import numpy as np\n",
    "import matplotlib.pyplot as plt\n",
    "import sys\n",
    "sys.path.append(\"../\")\n",
    "import assignment1.linear_classifer as lc\n",
    "\n",
    "%matplotlib inline\n",
    "\n",
    "%load_ext autoreload\n",
    "%autoreload 2"
   ]
  },
  {
   "cell_type": "code",
   "execution_count": 2,
   "metadata": {},
   "outputs": [],
   "source": [
    "from dataset import load_svhn, random_split_train_val\n",
    "from gradient_check import check_layer_gradient, check_layer_param_gradient, check_model_gradient\n",
    "from layers import FullyConnectedLayer, ReLULayer\n",
    "from model import TwoLayerNet\n",
    "from trainer import Trainer, Dataset\n",
    "from optim import SGD, MomentumSGD\n",
    "from metrics import multiclass_accuracy"
   ]
  },
  {
   "cell_type": "markdown",
   "metadata": {},
   "source": [
    "# Загружаем данные\n",
    "\n",
    "И разделяем их на training и validation."
   ]
  },
  {
   "cell_type": "code",
   "execution_count": 3,
   "metadata": {},
   "outputs": [],
   "source": [
    "def prepare_for_neural_network(train_X, test_X):\n",
    "    train_flat = train_X.reshape(train_X.shape[0], -1).astype(np.float) / 255.0\n",
    "    test_flat = test_X.reshape(test_X.shape[0], -1).astype(np.float) / 255.0\n",
    "    \n",
    "    # Subtract mean\n",
    "    mean_image = np.mean(train_flat, axis = 0)\n",
    "    train_flat -= mean_image\n",
    "    test_flat -= mean_image\n",
    "    \n",
    "    return train_flat, test_flat\n",
    "    \n",
    "train_X, train_y, test_X, test_y = load_svhn(\"/Users/youzhick/Desktop/DL-AI/assignments/assignment1/data\", max_train=10000, max_test=1000)    \n",
    "#train_X, train_y, test_X, test_y = load_svhn(\"E:\\\\working/DL-AI\\\\assignments\\\\assignment1\\\\data\", max_train=10000, max_test=1000)    \n",
    "#train_X, train_y, test_X, test_y = load_svhn(\"data\", max_train=10000, max_test=1000)    \n",
    "\n",
    "train_X, test_X = prepare_for_neural_network(train_X, test_X)\n",
    "# Split train into train and val\n",
    "train_X, train_y, val_X, val_y = random_split_train_val(train_X, train_y, num_val = 1000)"
   ]
  },
  {
   "cell_type": "markdown",
   "metadata": {},
   "source": [
    "# Как всегда, начинаем с кирпичиков\n",
    "\n",
    "Мы будем реализовывать необходимые нам слои по очереди. Каждый слой должен реализовать:\n",
    "- прямой проход (forward pass), который генерирует выход слоя по входу и запоминает необходимые данные\n",
    "- обратный проход (backward pass), который получает градиент по выходу слоя и вычисляет градиент по входу и по параметрам\n",
    "\n",
    "Начнем с ReLU, у которого параметров нет."
   ]
  },
  {
   "cell_type": "code",
   "execution_count": 4,
   "metadata": {
    "scrolled": false
   },
   "outputs": [
    {
     "name": "stdout",
     "output_type": "stream",
     "text": [
      "Gradient check passed!\n"
     ]
    }
   ],
   "source": [
    "# TODO: Implement ReLULayer layer in layers.py\n",
    "# Note: you'll need to copy implementation of the gradient_check function from the previous assignment\n",
    "\n",
    "X = np.array([[1,-2,3],\n",
    "              [-1, 2, 0.1]\n",
    "              ])\n",
    "\n",
    "assert check_layer_gradient(ReLULayer(), X)"
   ]
  },
  {
   "cell_type": "markdown",
   "metadata": {},
   "source": [
    "А теперь реализуем полносвязный слой (fully connected layer), у которого будет два массива параметров: W (weights) и B (bias).\n",
    "\n",
    "Все параметры наши слои будут использовать для параметров специальный класс `Param`, в котором будут храниться значения параметров и градиенты этих параметров, вычисляемые во время обратного прохода.\n",
    "\n",
    "Это даст возможность аккумулировать (суммировать) градиенты из разных частей функции потерь, например, из cross-entropy loss и regularization loss."
   ]
  },
  {
   "cell_type": "code",
   "execution_count": 5,
   "metadata": {},
   "outputs": [
    {
     "name": "stdout",
     "output_type": "stream",
     "text": [
      "Gradient check passed!\n",
      "Gradient check passed!\n",
      "Gradient check passed!\n"
     ]
    }
   ],
   "source": [
    "# TODO: Implement FullyConnected layer forward and backward methods\n",
    "assert check_layer_gradient(FullyConnectedLayer(3, 4), X)\n",
    "# TODO: Implement storing gradients for W and B\n",
    "assert check_layer_param_gradient(FullyConnectedLayer(3, 4), X, 'W')\n",
    "assert check_layer_param_gradient(FullyConnectedLayer(3, 4), X, 'B')"
   ]
  },
  {
   "cell_type": "markdown",
   "metadata": {},
   "source": [
    "## Создаем нейронную сеть\n",
    "\n",
    "Теперь мы реализуем простейшую нейронную сеть с двумя полносвязным слоями и нелинейностью ReLU. Реализуйте функцию `compute_loss_and_gradients`, она должна запустить прямой и обратный проход через оба слоя для вычисления градиентов.\n",
    "\n",
    "Не забудьте реализовать очистку градиентов в начале функции."
   ]
  },
  {
   "cell_type": "code",
   "execution_count": 6,
   "metadata": {},
   "outputs": [
    {
     "name": "stdout",
     "output_type": "stream",
     "text": [
      "Checking gradient for W0\n",
      "Gradient check passed!\n",
      "Checking gradient for B0\n",
      "Gradient check passed!\n",
      "Checking gradient for W2\n",
      "Gradient check passed!\n",
      "Checking gradient for B2\n",
      "Gradient check passed!\n"
     ]
    },
    {
     "data": {
      "text/plain": [
       "True"
      ]
     },
     "execution_count": 6,
     "metadata": {},
     "output_type": "execute_result"
    }
   ],
   "source": [
    "# TODO: In model.py, implement compute_loss_and_gradients function\n",
    "model = TwoLayerNet(n_input = train_X.shape[1], n_output = 10, hidden_layer_size = 3, reg = 0)\n",
    "loss = model.compute_loss_and_gradients(train_X[:2], train_y[:2])\n",
    "\n",
    "# TODO Now implement backward pass and aggregate all of the params\n",
    "check_model_gradient(model, train_X[:2], train_y[:2])"
   ]
  },
  {
   "cell_type": "markdown",
   "metadata": {},
   "source": [
    "Теперь добавьте к модели регуляризацию - она должна прибавляться к loss и делать свой вклад в градиенты."
   ]
  },
  {
   "cell_type": "code",
   "execution_count": 7,
   "metadata": {},
   "outputs": [
    {
     "name": "stdout",
     "output_type": "stream",
     "text": [
      "Checking gradient for W0\n",
      "Gradient check passed!\n",
      "Checking gradient for B0\n",
      "Gradient check passed!\n",
      "Checking gradient for W2\n",
      "Gradient check passed!\n",
      "Checking gradient for B2\n",
      "Gradient check passed!\n"
     ]
    },
    {
     "data": {
      "text/plain": [
       "True"
      ]
     },
     "execution_count": 7,
     "metadata": {},
     "output_type": "execute_result"
    }
   ],
   "source": [
    "# TODO Now implement l2 regularization in the forward and backward pass\n",
    "model_with_reg = TwoLayerNet(n_input = train_X.shape[1], n_output = 10, hidden_layer_size = 3, reg = 1e1)\n",
    "loss_with_reg = model_with_reg.compute_loss_and_gradients(train_X[:2], train_y[:2])\n",
    "assert loss_with_reg > loss and not np.isclose(loss_with_reg, loss), \\\n",
    "    \"Loss with regularization (%2.4f) should be higher than without it (%2.4f)!\" % (loss, loss_with_reg)\n",
    "\n",
    "check_model_gradient(model_with_reg, train_X[:2], train_y[:2])"
   ]
  },
  {
   "cell_type": "markdown",
   "metadata": {},
   "source": [
    "Также реализуем функцию предсказания (вычисления значения) модели на новых данных.\n",
    "\n",
    "Какое значение точности мы ожидаем увидеть до начала тренировки?"
   ]
  },
  {
   "cell_type": "code",
   "execution_count": 8,
   "metadata": {},
   "outputs": [
    {
     "data": {
      "text/plain": [
       "0.1"
      ]
     },
     "execution_count": 8,
     "metadata": {},
     "output_type": "execute_result"
    }
   ],
   "source": [
    "# Finally, implement predict function!\n",
    "\n",
    "# TODO: Implement predict function\n",
    "# What would be the value we expect?\n",
    "multiclass_accuracy(model_with_reg.predict(train_X[:30]), train_y[:30]) "
   ]
  },
  {
   "cell_type": "markdown",
   "metadata": {},
   "source": [
    "# Допишем код для процесса тренировки\n",
    "\n",
    "Если все реализовано корректно, значение функции ошибки должно уменьшаться с каждой эпохой, пусть и медленно. Не беспокойтесь пока про validation accuracy."
   ]
  },
  {
   "cell_type": "code",
   "execution_count": 9,
   "metadata": {},
   "outputs": [
    {
     "name": "stdout",
     "output_type": "stream",
     "text": [
      "Loss: 2.178944, Train accuracy: 0.196667, val accuracy: 0.206000\n",
      "Loss: 2.120234, Train accuracy: 0.196667, val accuracy: 0.206000\n",
      "Loss: 2.074632, Train accuracy: 0.196667, val accuracy: 0.206000\n",
      "Loss: 2.217892, Train accuracy: 0.196667, val accuracy: 0.206000\n",
      "Loss: 2.051832, Train accuracy: 0.237111, val accuracy: 0.242000\n",
      "Loss: 1.889165, Train accuracy: 0.270000, val accuracy: 0.267000\n",
      "Loss: 2.075725, Train accuracy: 0.306222, val accuracy: 0.301000\n",
      "Loss: 1.786385, Train accuracy: 0.370667, val accuracy: 0.363000\n",
      "Loss: 1.841743, Train accuracy: 0.408444, val accuracy: 0.408000\n",
      "Loss: 1.284554, Train accuracy: 0.459556, val accuracy: 0.455000\n",
      "Loss: 1.595489, Train accuracy: 0.523889, val accuracy: 0.514000\n",
      "Loss: 1.460311, Train accuracy: 0.562889, val accuracy: 0.560000\n",
      "Loss: 1.400448, Train accuracy: 0.583333, val accuracy: 0.572000\n",
      "Loss: 1.442766, Train accuracy: 0.618556, val accuracy: 0.595000\n",
      "Loss: 1.232728, Train accuracy: 0.641111, val accuracy: 0.636000\n",
      "Loss: 1.004002, Train accuracy: 0.652778, val accuracy: 0.639000\n",
      "Loss: 1.079064, Train accuracy: 0.668444, val accuracy: 0.661000\n",
      "Loss: 1.416089, Train accuracy: 0.689333, val accuracy: 0.680000\n",
      "Loss: 1.298078, Train accuracy: 0.698889, val accuracy: 0.679000\n",
      "Loss: 1.696865, Train accuracy: 0.707000, val accuracy: 0.680000\n",
      "Loss: 0.897373, Train accuracy: 0.711111, val accuracy: 0.701000\n",
      "Loss: 1.187968, Train accuracy: 0.722111, val accuracy: 0.691000\n",
      "Loss: 0.805105, Train accuracy: 0.733667, val accuracy: 0.704000\n",
      "Loss: 0.788049, Train accuracy: 0.731778, val accuracy: 0.709000\n",
      "Loss: 0.707046, Train accuracy: 0.748222, val accuracy: 0.715000\n",
      "Loss: 0.708338, Train accuracy: 0.751889, val accuracy: 0.706000\n",
      "Loss: 0.600352, Train accuracy: 0.765444, val accuracy: 0.726000\n",
      "Loss: 0.583602, Train accuracy: 0.758444, val accuracy: 0.709000\n",
      "Loss: 0.834322, Train accuracy: 0.765667, val accuracy: 0.710000\n",
      "Loss: 0.897424, Train accuracy: 0.776333, val accuracy: 0.724000\n"
     ]
    }
   ],
   "source": [
    "model = TwoLayerNet(n_input = train_X.shape[1], n_output = 10, hidden_layer_size = 100, reg = 1e-5) # was 1e1\n",
    "dataset = Dataset(train_X, train_y, val_X, val_y)\n",
    "trainer = Trainer(model, dataset, SGD(), num_epochs = 30, learning_rate = 2e-2)\n",
    "\n",
    "# TODO Implement missing pieces in Trainer.fit function\n",
    "# You should expect loss to go down every epoch, even if it's slow\n",
    "loss_history, train_history, val_history = trainer.fit()"
   ]
  },
  {
   "cell_type": "code",
   "execution_count": 10,
   "metadata": {},
   "outputs": [
    {
     "data": {
      "text/plain": [
       "[<matplotlib.lines.Line2D at 0xb35a5a320>]"
      ]
     },
     "execution_count": 10,
     "metadata": {},
     "output_type": "execute_result"
    },
    {
     "data": {
      "image/png": "[encoded data removed]",
      "text/plain": [
       "<Figure size 432x288 with 1 Axes>"
      ]
     },
     "metadata": {},
     "output_type": "display_data"
    }
   ],
   "source": [
    "plt.plot(train_history)\n",
    "plt.plot(val_history)"
   ]
  },
  {
   "cell_type": "markdown",
   "metadata": {},
   "source": [
    "# Улучшаем процесс тренировки\n",
    "\n",
    "Мы реализуем несколько ключевых оптимизаций, необходимых для тренировки современных нейросетей."
   ]
  },
  {
   "cell_type": "markdown",
   "metadata": {},
   "source": [
    "## Уменьшение скорости обучения (learning rate decay)\n",
    "\n",
    "Одна из необходимых оптимизаций во время тренировки нейронных сетей - постепенное уменьшение скорости обучения по мере тренировки.\n",
    "\n",
    "Один из стандартных методов - уменьшение скорости обучения (learning rate) каждые N эпох на коэффициент d (часто называемый decay). Значения N и d, как всегда, являются гиперпараметрами и должны подбираться на основе эффективности на проверочных данных (validation data). \n",
    "\n",
    "В нашем случае N будет равным 1."
   ]
  },
  {
   "cell_type": "code",
   "execution_count": 11,
   "metadata": {},
   "outputs": [
    {
     "name": "stdout",
     "output_type": "stream",
     "text": [
      "Loss: 2.304021, Train accuracy: 0.196667, val accuracy: 0.206000\n",
      "Loss: 2.174479, Train accuracy: 0.196667, val accuracy: 0.206000\n",
      "Loss: 2.225290, Train accuracy: 0.196667, val accuracy: 0.206000\n",
      "Loss: 2.024262, Train accuracy: 0.196667, val accuracy: 0.206000\n",
      "Loss: 2.104502, Train accuracy: 0.238778, val accuracy: 0.247000\n",
      "Loss: 1.927095, Train accuracy: 0.260444, val accuracy: 0.261000\n",
      "Loss: 1.938787, Train accuracy: 0.287778, val accuracy: 0.293000\n",
      "Loss: 1.754226, Train accuracy: 0.368556, val accuracy: 0.380000\n",
      "Loss: 1.658775, Train accuracy: 0.409333, val accuracy: 0.407000\n",
      "Loss: 1.628587, Train accuracy: 0.461889, val accuracy: 0.451000\n",
      "Loss: 0.960814, Train accuracy: 0.505778, val accuracy: 0.500000\n",
      "Loss: 1.237429, Train accuracy: 0.544333, val accuracy: 0.533000\n",
      "Loss: 1.299118, Train accuracy: 0.575000, val accuracy: 0.563000\n",
      "Loss: 1.460529, Train accuracy: 0.598222, val accuracy: 0.601000\n",
      "Loss: 0.946205, Train accuracy: 0.625778, val accuracy: 0.609000\n",
      "Loss: 1.476122, Train accuracy: 0.641333, val accuracy: 0.637000\n",
      "Loss: 0.668238, Train accuracy: 0.658222, val accuracy: 0.641000\n",
      "Loss: 1.419273, Train accuracy: 0.672222, val accuracy: 0.653000\n",
      "Loss: 0.986739, Train accuracy: 0.682444, val accuracy: 0.659000\n",
      "Loss: 0.838617, Train accuracy: 0.702111, val accuracy: 0.667000\n",
      "Loss: 1.800076, Train accuracy: 0.705889, val accuracy: 0.676000\n",
      "Loss: 0.805405, Train accuracy: 0.714889, val accuracy: 0.691000\n",
      "Loss: 1.286915, Train accuracy: 0.720333, val accuracy: 0.700000\n",
      "Loss: 1.085959, Train accuracy: 0.721111, val accuracy: 0.694000\n",
      "Loss: 0.449983, Train accuracy: 0.727667, val accuracy: 0.695000\n",
      "Loss: 0.939290, Train accuracy: 0.735111, val accuracy: 0.699000\n",
      "Loss: 0.539672, Train accuracy: 0.742000, val accuracy: 0.713000\n",
      "Loss: 1.322674, Train accuracy: 0.747667, val accuracy: 0.710000\n",
      "Loss: 1.225543, Train accuracy: 0.742778, val accuracy: 0.712000\n",
      "Loss: 0.579620, Train accuracy: 0.759222, val accuracy: 0.720000\n"
     ]
    }
   ],
   "source": [
    "# TODO Implement learning rate decay inside Trainer.fit method\n",
    "# Decay should happen once per epoch\n",
    "\n",
    "model = TwoLayerNet(n_input = train_X.shape[1], n_output = 10, hidden_layer_size = 100, reg = 1e-5)\n",
    "dataset = Dataset(train_X, train_y, val_X, val_y)\n",
    "trainer = Trainer(model, dataset, SGD(), num_epochs = 30, learning_rate = 2e-2, learning_rate_decay=0.99)\n",
    "\n",
    "initial_learning_rate = trainer.learning_rate\n",
    "loss_history, train_history, val_history = trainer.fit()\n",
    "\n",
    "assert trainer.learning_rate < initial_learning_rate, \"Learning rate should've been reduced\"\n",
    "assert trainer.learning_rate > 0.5*initial_learning_rate, \"Learning rate shouldn'tve been reduced that much!\""
   ]
  },
  {
   "cell_type": "code",
   "execution_count": 12,
   "metadata": {},
   "outputs": [
    {
     "data": {
      "text/plain": [
       "[<matplotlib.lines.Line2D at 0xb35bf4358>]"
      ]
     },
     "execution_count": 12,
     "metadata": {},
     "output_type": "execute_result"
    },
    {
     "data": {
      "image/png": "[encoded data removed]",
      "text/plain": [
       "<Figure size 432x288 with 1 Axes>"
      ]
     },
     "metadata": {},
     "output_type": "display_data"
    }
   ],
   "source": [
    "plt.plot(train_history)\n",
    "plt.plot(val_history)"
   ]
  },
  {
   "cell_type": "markdown",
   "metadata": {},
   "source": [
    "# Накопление импульса (Momentum SGD)\n",
    "\n",
    "Другой большой класс оптимизаций - использование более эффективных методов градиентного спуска. Мы реализуем один из них - накопление импульса (Momentum SGD).\n",
    "\n",
    "Этот метод хранит скорость движения, использует градиент для ее изменения на каждом шаге, и изменяет веса пропорционально значению скорости.\n",
    "(Физическая аналогия: Вместо скорости градиенты теперь будут задавать ускорение, но будет присутствовать сила трения.)\n",
    "\n",
    "```\n",
    "velocity = momentum * velocity - learning_rate * gradient \n",
    "w = w + velocity\n",
    "```\n",
    "\n",
    "`momentum` здесь коэффициент затухания, который тоже является гиперпараметром (к счастью, для него часто есть хорошее значение по умолчанию, типичный диапазон -- 0.8-0.99).\n",
    "\n",
    "Несколько полезных ссылок, где метод разбирается более подробно:  \n",
    "http://cs231n.github.io/neural-networks-3/#sgd  \n",
    "https://distill.pub/2017/momentum/"
   ]
  },
  {
   "cell_type": "code",
   "execution_count": 13,
   "metadata": {},
   "outputs": [
    {
     "name": "stdout",
     "output_type": "stream",
     "text": [
      "Loss: 2.039576, Train accuracy: 0.354889, val accuracy: 0.353000\n",
      "Loss: 1.066181, Train accuracy: 0.563000, val accuracy: 0.555000\n",
      "Loss: 1.516538, Train accuracy: 0.611667, val accuracy: 0.601000\n",
      "Loss: 1.051843, Train accuracy: 0.664556, val accuracy: 0.643000\n",
      "Loss: 0.960163, Train accuracy: 0.704556, val accuracy: 0.653000\n",
      "Loss: 1.465650, Train accuracy: 0.728222, val accuracy: 0.666000\n",
      "Loss: 1.363559, Train accuracy: 0.737778, val accuracy: 0.675000\n",
      "Loss: 0.665457, Train accuracy: 0.747556, val accuracy: 0.692000\n",
      "Loss: 0.610169, Train accuracy: 0.734222, val accuracy: 0.652000\n",
      "Loss: 0.636913, Train accuracy: 0.789111, val accuracy: 0.699000\n",
      "Loss: 0.848411, Train accuracy: 0.802667, val accuracy: 0.714000\n",
      "Loss: 0.492335, Train accuracy: 0.790889, val accuracy: 0.707000\n",
      "Loss: 0.483313, Train accuracy: 0.801222, val accuracy: 0.704000\n",
      "Loss: 0.661980, Train accuracy: 0.804000, val accuracy: 0.719000\n",
      "Loss: 1.607471, Train accuracy: 0.831556, val accuracy: 0.725000\n",
      "Loss: 0.774706, Train accuracy: 0.822444, val accuracy: 0.702000\n",
      "Loss: 0.668964, Train accuracy: 0.843222, val accuracy: 0.728000\n",
      "Loss: 0.828195, Train accuracy: 0.830667, val accuracy: 0.717000\n",
      "Loss: 0.499080, Train accuracy: 0.854556, val accuracy: 0.707000\n",
      "Loss: 1.027941, Train accuracy: 0.875667, val accuracy: 0.753000\n",
      "Loss: 0.801115, Train accuracy: 0.851333, val accuracy: 0.714000\n",
      "Loss: 0.200843, Train accuracy: 0.864111, val accuracy: 0.726000\n",
      "Loss: 0.270181, Train accuracy: 0.876111, val accuracy: 0.741000\n",
      "Loss: 0.408975, Train accuracy: 0.886778, val accuracy: 0.744000\n",
      "Loss: 0.380251, Train accuracy: 0.895111, val accuracy: 0.736000\n",
      "Loss: 0.184130, Train accuracy: 0.889667, val accuracy: 0.726000\n",
      "Loss: 1.217996, Train accuracy: 0.899778, val accuracy: 0.727000\n",
      "Loss: 0.536442, Train accuracy: 0.878111, val accuracy: 0.730000\n",
      "Loss: 0.491993, Train accuracy: 0.887000, val accuracy: 0.733000\n",
      "Loss: 0.402758, Train accuracy: 0.896889, val accuracy: 0.733000\n"
     ]
    }
   ],
   "source": [
    "# TODO: Implement MomentumSGD.update function in optim.py\n",
    "\n",
    "model = TwoLayerNet(n_input = train_X.shape[1], n_output = 10, hidden_layer_size = 100, reg = 1e-5)\n",
    "dataset = Dataset(train_X, train_y, val_X, val_y)\n",
    "trainer = Trainer(model, dataset, MomentumSGD(), num_epochs=30, learning_rate=2e-2, learning_rate_decay=0.99)\n",
    "\n",
    "# You should see even better results than before!\n",
    "loss_history, train_history, val_history = trainer.fit()"
   ]
  },
  {
   "cell_type": "code",
   "execution_count": 14,
   "metadata": {},
   "outputs": [
    {
     "data": {
      "text/plain": [
       "[<matplotlib.lines.Line2D at 0xb35c8eac8>]"
      ]
     },
     "execution_count": 14,
     "metadata": {},
     "output_type": "execute_result"
    },
    {
     "data": {
      "image/png": "[encoded data removed]",
      "text/plain": [
       "<Figure size 432x288 with 1 Axes>"
      ]
     },
     "metadata": {},
     "output_type": "display_data"
    }
   ],
   "source": [
    "plt.plot(train_history)\n",
    "plt.plot(val_history)"
   ]
  },
  {
   "cell_type": "markdown",
   "metadata": {},
   "source": [
    "# Ну что, давайте уже тренировать сеть!"
   ]
  },
  {
   "cell_type": "markdown",
   "metadata": {},
   "source": [
    "## Последний тест - переобучимся (overfit) на маленьком наборе данных\n",
    "\n",
    "Хороший способ проверить, все ли реализовано корректно - переобучить сеть на маленьком наборе данных.  \n",
    "Наша модель обладает достаточной мощностью, чтобы приблизить маленький набор данных идеально, поэтому мы ожидаем, что на нем мы быстро дойдем до 100% точности на тренировочном наборе. \n",
    "\n",
    "Если этого не происходит, то где-то была допущена ошибка!"
   ]
  },
  {
   "cell_type": "code",
   "execution_count": 15,
   "metadata": {},
   "outputs": [
    {
     "name": "stdout",
     "output_type": "stream",
     "text": [
      "Loss: 2.335189, Train accuracy: 0.200000, val accuracy: 0.133333\n",
      "Loss: 2.328265, Train accuracy: 0.266667, val accuracy: 0.000000\n",
      "Loss: 2.298927, Train accuracy: 0.266667, val accuracy: 0.000000\n",
      "Loss: 2.294801, Train accuracy: 0.200000, val accuracy: 0.133333\n",
      "Loss: 2.329220, Train accuracy: 0.200000, val accuracy: 0.133333\n",
      "Loss: 2.284034, Train accuracy: 0.266667, val accuracy: 0.000000\n",
      "Loss: 2.218801, Train accuracy: 0.200000, val accuracy: 0.066667\n",
      "Loss: 2.306129, Train accuracy: 0.266667, val accuracy: 0.000000\n",
      "Loss: 2.281669, Train accuracy: 0.400000, val accuracy: 0.000000\n",
      "Loss: 2.120031, Train accuracy: 0.400000, val accuracy: 0.000000\n",
      "Loss: 2.269416, Train accuracy: 0.400000, val accuracy: 0.000000\n",
      "Loss: 2.360105, Train accuracy: 0.400000, val accuracy: 0.000000\n",
      "Loss: 1.662837, Train accuracy: 0.400000, val accuracy: 0.000000\n",
      "Loss: 1.931809, Train accuracy: 0.333333, val accuracy: 0.000000\n",
      "Loss: 1.934791, Train accuracy: 0.333333, val accuracy: 0.000000\n",
      "Loss: 2.185033, Train accuracy: 0.333333, val accuracy: 0.000000\n",
      "Loss: 2.017403, Train accuracy: 0.333333, val accuracy: 0.000000\n",
      "Loss: 1.967314, Train accuracy: 0.400000, val accuracy: 0.000000\n",
      "Loss: 1.995238, Train accuracy: 0.400000, val accuracy: 0.000000\n",
      "Loss: 1.820464, Train accuracy: 0.400000, val accuracy: 0.000000\n",
      "Loss: 1.516658, Train accuracy: 0.400000, val accuracy: 0.000000\n",
      "Loss: 1.716110, Train accuracy: 0.400000, val accuracy: 0.000000\n",
      "Loss: 1.942700, Train accuracy: 0.466667, val accuracy: 0.000000\n",
      "Loss: 1.909812, Train accuracy: 0.466667, val accuracy: 0.066667\n",
      "Loss: 1.891727, Train accuracy: 0.466667, val accuracy: 0.066667\n",
      "Loss: 2.093316, Train accuracy: 0.533333, val accuracy: 0.066667\n",
      "Loss: 1.220723, Train accuracy: 0.466667, val accuracy: 0.000000\n",
      "Loss: 1.509905, Train accuracy: 0.466667, val accuracy: 0.066667\n",
      "Loss: 1.983819, Train accuracy: 0.533333, val accuracy: 0.066667\n",
      "Loss: 1.468713, Train accuracy: 0.466667, val accuracy: 0.066667\n",
      "Loss: 1.928537, Train accuracy: 0.533333, val accuracy: 0.000000\n",
      "Loss: 1.823191, Train accuracy: 0.533333, val accuracy: 0.000000\n",
      "Loss: 1.785280, Train accuracy: 0.600000, val accuracy: 0.066667\n",
      "Loss: 1.676817, Train accuracy: 0.533333, val accuracy: 0.066667\n",
      "Loss: 1.374124, Train accuracy: 0.600000, val accuracy: 0.066667\n",
      "Loss: 1.926483, Train accuracy: 0.600000, val accuracy: 0.000000\n",
      "Loss: 2.013169, Train accuracy: 0.600000, val accuracy: 0.066667\n",
      "Loss: 1.419155, Train accuracy: 0.600000, val accuracy: 0.066667\n",
      "Loss: 1.502589, Train accuracy: 0.666667, val accuracy: 0.066667\n",
      "Loss: 1.945838, Train accuracy: 0.666667, val accuracy: 0.066667\n",
      "Loss: 2.160813, Train accuracy: 0.666667, val accuracy: 0.066667\n",
      "Loss: 1.399909, Train accuracy: 0.666667, val accuracy: 0.066667\n",
      "Loss: 1.649271, Train accuracy: 0.666667, val accuracy: 0.000000\n",
      "Loss: 1.807408, Train accuracy: 0.733333, val accuracy: 0.066667\n",
      "Loss: 1.510095, Train accuracy: 0.733333, val accuracy: 0.066667\n",
      "Loss: 1.802958, Train accuracy: 0.733333, val accuracy: 0.066667\n",
      "Loss: 1.308097, Train accuracy: 0.733333, val accuracy: 0.066667\n",
      "Loss: 1.446389, Train accuracy: 0.733333, val accuracy: 0.066667\n",
      "Loss: 1.845157, Train accuracy: 0.733333, val accuracy: 0.000000\n",
      "Loss: 1.783329, Train accuracy: 0.733333, val accuracy: 0.066667\n",
      "Loss: 2.058347, Train accuracy: 0.733333, val accuracy: 0.066667\n",
      "Loss: 1.339902, Train accuracy: 0.733333, val accuracy: 0.066667\n",
      "Loss: 1.632700, Train accuracy: 0.733333, val accuracy: 0.066667\n",
      "Loss: 1.245083, Train accuracy: 0.733333, val accuracy: 0.133333\n",
      "Loss: 1.565635, Train accuracy: 0.733333, val accuracy: 0.066667\n",
      "Loss: 1.749975, Train accuracy: 0.733333, val accuracy: 0.066667\n",
      "Loss: 2.079566, Train accuracy: 0.733333, val accuracy: 0.066667\n",
      "Loss: 1.007452, Train accuracy: 0.733333, val accuracy: 0.066667\n",
      "Loss: 2.053534, Train accuracy: 0.733333, val accuracy: 0.066667\n",
      "Loss: 1.869655, Train accuracy: 0.733333, val accuracy: 0.066667\n",
      "Loss: 2.343124, Train accuracy: 0.733333, val accuracy: 0.066667\n",
      "Loss: 1.302932, Train accuracy: 0.733333, val accuracy: 0.066667\n",
      "Loss: 1.447993, Train accuracy: 0.733333, val accuracy: 0.066667\n",
      "Loss: 2.002035, Train accuracy: 0.733333, val accuracy: 0.066667\n",
      "Loss: 1.738375, Train accuracy: 0.733333, val accuracy: 0.066667\n",
      "Loss: 1.589775, Train accuracy: 0.733333, val accuracy: 0.066667\n",
      "Loss: 1.696060, Train accuracy: 0.733333, val accuracy: 0.066667\n",
      "Loss: 1.268919, Train accuracy: 0.733333, val accuracy: 0.066667\n",
      "Loss: 1.973612, Train accuracy: 0.733333, val accuracy: 0.066667\n",
      "Loss: 0.921027, Train accuracy: 0.733333, val accuracy: 0.066667\n",
      "Loss: 1.287747, Train accuracy: 0.733333, val accuracy: 0.066667\n",
      "Loss: 1.172850, Train accuracy: 0.733333, val accuracy: 0.066667\n",
      "Loss: 1.276483, Train accuracy: 0.733333, val accuracy: 0.066667\n",
      "Loss: 1.718877, Train accuracy: 0.733333, val accuracy: 0.066667\n",
      "Loss: 1.374235, Train accuracy: 0.733333, val accuracy: 0.066667\n",
      "Loss: 1.964964, Train accuracy: 0.733333, val accuracy: 0.066667\n",
      "Loss: 1.712405, Train accuracy: 0.733333, val accuracy: 0.066667\n",
      "Loss: 1.361882, Train accuracy: 0.733333, val accuracy: 0.066667\n",
      "Loss: 1.560557, Train accuracy: 0.800000, val accuracy: 0.066667\n",
      "Loss: 1.932536, Train accuracy: 0.866667, val accuracy: 0.066667\n",
      "Loss: 1.320693, Train accuracy: 0.800000, val accuracy: 0.066667\n",
      "Loss: 1.070125, Train accuracy: 0.866667, val accuracy: 0.066667\n",
      "Loss: 1.401071, Train accuracy: 0.800000, val accuracy: 0.066667\n",
      "Loss: 1.596127, Train accuracy: 0.866667, val accuracy: 0.066667\n",
      "Loss: 1.252740, Train accuracy: 0.866667, val accuracy: 0.066667\n",
      "Loss: 1.642530, Train accuracy: 0.866667, val accuracy: 0.066667\n",
      "Loss: 0.876113, Train accuracy: 0.866667, val accuracy: 0.066667\n",
      "Loss: 1.000272, Train accuracy: 0.866667, val accuracy: 0.066667\n",
      "Loss: 1.433584, Train accuracy: 0.866667, val accuracy: 0.066667\n",
      "Loss: 1.665112, Train accuracy: 0.866667, val accuracy: 0.066667\n",
      "Loss: 1.258243, Train accuracy: 0.866667, val accuracy: 0.066667\n",
      "Loss: 1.560122, Train accuracy: 0.866667, val accuracy: 0.066667\n",
      "Loss: 1.716007, Train accuracy: 0.866667, val accuracy: 0.066667\n",
      "Loss: 1.275555, Train accuracy: 0.933333, val accuracy: 0.066667\n",
      "Loss: 1.520506, Train accuracy: 0.933333, val accuracy: 0.066667\n",
      "Loss: 1.249286, Train accuracy: 0.933333, val accuracy: 0.066667\n",
      "Loss: 0.985850, Train accuracy: 0.933333, val accuracy: 0.066667\n",
      "Loss: 0.999836, Train accuracy: 0.933333, val accuracy: 0.066667\n",
      "Loss: 1.585197, Train accuracy: 0.933333, val accuracy: 0.066667\n",
      "Loss: 0.965272, Train accuracy: 0.933333, val accuracy: 0.066667\n",
      "Loss: 1.577026, Train accuracy: 0.933333, val accuracy: 0.066667\n",
      "Loss: 1.598943, Train accuracy: 0.933333, val accuracy: 0.066667\n",
      "Loss: 1.589365, Train accuracy: 0.933333, val accuracy: 0.066667\n",
      "Loss: 1.300213, Train accuracy: 0.933333, val accuracy: 0.066667\n",
      "Loss: 1.284163, Train accuracy: 0.933333, val accuracy: 0.000000\n",
      "Loss: 1.021049, Train accuracy: 0.933333, val accuracy: 0.000000\n",
      "Loss: 1.068383, Train accuracy: 1.000000, val accuracy: 0.066667\n",
      "Loss: 1.310836, Train accuracy: 0.933333, val accuracy: 0.066667\n",
      "Loss: 1.254176, Train accuracy: 0.933333, val accuracy: 0.000000\n",
      "Loss: 0.976701, Train accuracy: 0.933333, val accuracy: 0.000000\n",
      "Loss: 1.214146, Train accuracy: 0.933333, val accuracy: 0.000000\n",
      "Loss: 1.332372, Train accuracy: 0.933333, val accuracy: 0.000000\n",
      "Loss: 1.182747, Train accuracy: 0.933333, val accuracy: 0.000000\n",
      "Loss: 1.570985, Train accuracy: 1.000000, val accuracy: 0.000000\n",
      "Loss: 1.630199, Train accuracy: 1.000000, val accuracy: 0.000000\n",
      "Loss: 1.206773, Train accuracy: 0.933333, val accuracy: 0.000000\n",
      "Loss: 1.124629, Train accuracy: 0.933333, val accuracy: 0.000000\n",
      "Loss: 1.224740, Train accuracy: 1.000000, val accuracy: 0.000000\n",
      "Loss: 1.527641, Train accuracy: 1.000000, val accuracy: 0.000000\n",
      "Loss: 1.324707, Train accuracy: 1.000000, val accuracy: 0.000000\n",
      "Loss: 1.269796, Train accuracy: 1.000000, val accuracy: 0.000000\n",
      "Loss: 1.190412, Train accuracy: 1.000000, val accuracy: 0.000000\n",
      "Loss: 1.566864, Train accuracy: 1.000000, val accuracy: 0.000000\n",
      "Loss: 1.405378, Train accuracy: 1.000000, val accuracy: 0.000000\n",
      "Loss: 1.417154, Train accuracy: 1.000000, val accuracy: 0.000000\n",
      "Loss: 1.196541, Train accuracy: 1.000000, val accuracy: 0.000000\n",
      "Loss: 1.267951, Train accuracy: 1.000000, val accuracy: 0.000000\n",
      "Loss: 1.429448, Train accuracy: 1.000000, val accuracy: 0.000000\n",
      "Loss: 1.289176, Train accuracy: 1.000000, val accuracy: 0.000000\n",
      "Loss: 1.318879, Train accuracy: 1.000000, val accuracy: 0.000000\n",
      "Loss: 1.480333, Train accuracy: 1.000000, val accuracy: 0.000000\n",
      "Loss: 1.496997, Train accuracy: 1.000000, val accuracy: 0.000000\n",
      "Loss: 1.300877, Train accuracy: 1.000000, val accuracy: 0.000000\n",
      "Loss: 1.470391, Train accuracy: 1.000000, val accuracy: 0.000000\n",
      "Loss: 1.304475, Train accuracy: 1.000000, val accuracy: 0.000000\n",
      "Loss: 1.118202, Train accuracy: 1.000000, val accuracy: 0.000000\n",
      "Loss: 1.122401, Train accuracy: 1.000000, val accuracy: 0.000000\n",
      "Loss: 1.245183, Train accuracy: 1.000000, val accuracy: 0.000000\n",
      "Loss: 1.498098, Train accuracy: 1.000000, val accuracy: 0.000000\n",
      "Loss: 1.338730, Train accuracy: 1.000000, val accuracy: 0.000000\n",
      "Loss: 1.584782, Train accuracy: 1.000000, val accuracy: 0.000000\n",
      "Loss: 1.508657, Train accuracy: 1.000000, val accuracy: 0.000000\n",
      "Loss: 1.232404, Train accuracy: 1.000000, val accuracy: 0.000000\n",
      "Loss: 1.220472, Train accuracy: 1.000000, val accuracy: 0.000000\n",
      "Loss: 1.273921, Train accuracy: 1.000000, val accuracy: 0.000000\n",
      "Loss: 1.363361, Train accuracy: 1.000000, val accuracy: 0.000000\n",
      "Loss: 1.388758, Train accuracy: 1.000000, val accuracy: 0.000000\n",
      "Loss: 1.415429, Train accuracy: 1.000000, val accuracy: 0.000000\n",
      "Loss: 1.223269, Train accuracy: 1.000000, val accuracy: 0.000000\n",
      "Loss: 1.514619, Train accuracy: 1.000000, val accuracy: 0.000000\n"
     ]
    }
   ],
   "source": [
    "data_size = 15\n",
    "model = TwoLayerNet(n_input = train_X.shape[1], n_output = 10, hidden_layer_size = 100, reg = 1e-1)\n",
    "dataset = Dataset(train_X[:data_size], train_y[:data_size], val_X[:data_size], val_y[:data_size])\n",
    "trainer = Trainer(model, dataset, SGD(), learning_rate=1e-1, num_epochs=150, batch_size=5)\n",
    "\n",
    "# You should expect this to reach 1.0 training accuracy \n",
    "loss_history, train_history, val_history = trainer.fit()"
   ]
  },
  {
   "cell_type": "code",
   "execution_count": 16,
   "metadata": {},
   "outputs": [
    {
     "data": {
      "text/plain": [
       "[<matplotlib.lines.Line2D at 0xb3602d978>]"
      ]
     },
     "execution_count": 16,
     "metadata": {},
     "output_type": "execute_result"
    },
    {
     "data": {
      "image/png": "[encoded data removed]",
      "text/plain": [
       "<Figure size 432x288 with 1 Axes>"
      ]
     },
     "metadata": {},
     "output_type": "display_data"
    }
   ],
   "source": [
    "plt.plot(train_history)\n",
    "plt.plot(val_history)"
   ]
  },
  {
   "cell_type": "markdown",
   "metadata": {},
   "source": [
    "Теперь найдем гипепараметры, для которых этот процесс сходится быстрее.\n",
    "Если все реализовано корректно, то существуют параметры, при которых процесс сходится в **20** эпох или еще быстрее.\n",
    "Найдите их!"
   ]
  },
  {
   "cell_type": "code",
   "execution_count": 17,
   "metadata": {},
   "outputs": [
    {
     "name": "stdout",
     "output_type": "stream",
     "text": [
      "Loss: 2.311829, Train accuracy: 0.200000, val accuracy: 0.133333\n",
      "Loss: 2.312325, Train accuracy: 0.200000, val accuracy: 0.133333\n",
      "Loss: 2.229288, Train accuracy: 0.200000, val accuracy: 0.133333\n",
      "Loss: 2.293678, Train accuracy: 0.333333, val accuracy: 0.066667\n",
      "Loss: 1.839091, Train accuracy: 0.400000, val accuracy: 0.000000\n",
      "Loss: 1.431226, Train accuracy: 0.266667, val accuracy: 0.066667\n",
      "Loss: 1.701014, Train accuracy: 0.400000, val accuracy: 0.133333\n",
      "Loss: 1.694787, Train accuracy: 0.466667, val accuracy: 0.000000\n",
      "Loss: 1.342946, Train accuracy: 0.533333, val accuracy: 0.000000\n",
      "Loss: 1.045653, Train accuracy: 0.666667, val accuracy: 0.000000\n",
      "Loss: 1.220973, Train accuracy: 0.800000, val accuracy: 0.000000\n",
      "Loss: 0.707913, Train accuracy: 0.866667, val accuracy: 0.066667\n",
      "Loss: 0.668415, Train accuracy: 0.933333, val accuracy: 0.000000\n",
      "Loss: 0.542059, Train accuracy: 0.933333, val accuracy: 0.000000\n",
      "Loss: 0.669746, Train accuracy: 1.000000, val accuracy: 0.000000\n",
      "Loss: 0.457866, Train accuracy: 1.000000, val accuracy: 0.000000\n",
      "Loss: 0.440503, Train accuracy: 1.000000, val accuracy: 0.133333\n",
      "Loss: 0.444308, Train accuracy: 1.000000, val accuracy: 0.133333\n",
      "Loss: 0.434106, Train accuracy: 1.000000, val accuracy: 0.133333\n",
      "Loss: 0.424993, Train accuracy: 1.000000, val accuracy: 0.133333\n"
     ]
    }
   ],
   "source": [
    "# Now, tweak some hyper parameters and make it train to 1.0 accuracy in 20 epochs or less\n",
    "\n",
    "model = TwoLayerNet(n_input = train_X.shape[1], n_output = 10, hidden_layer_size = 100, reg = 1e-2)\n",
    "dataset = Dataset(train_X[:data_size], train_y[:data_size], val_X[:data_size], val_y[:data_size])\n",
    "# TODO: Change any hyperparamers or optimizators to reach training accuracy in 20 epochs\n",
    "trainer = Trainer(model, dataset, MomentumSGD(), learning_rate=1e-1, num_epochs=20, batch_size=5, learning_rate_decay=0.99)\n",
    "\n",
    "loss_history, train_history, val_history = trainer.fit()"
   ]
  },
  {
   "cell_type": "code",
   "execution_count": 18,
   "metadata": {},
   "outputs": [
    {
     "data": {
      "text/plain": [
       "[<matplotlib.lines.Line2D at 0xb360c9c88>]"
      ]
     },
     "execution_count": 18,
     "metadata": {},
     "output_type": "execute_result"
    },
    {
     "data": {
      "image/png": "[encoded data removed]",
      "text/plain": [
       "<Figure size 432x288 with 1 Axes>"
      ]
     },
     "metadata": {},
     "output_type": "display_data"
    }
   ],
   "source": [
    "plt.plot(train_history)\n",
    "plt.plot(val_history)"
   ]
  },
  {
   "cell_type": "markdown",
   "metadata": {},
   "source": [
    "# Итак, основное мероприятие!\n",
    "\n",
    "Натренируйте лучшую нейросеть! Можно добавлять и изменять параметры, менять количество нейронов в слоях сети и как угодно экспериментировать. \n",
    "\n",
    "Добейтесь точности лучше **60%** на validation set."
   ]
  },
  {
   "cell_type": "code",
   "execution_count": 19,
   "metadata": {
    "scrolled": true
   },
   "outputs": [
    {
     "name": "stdout",
     "output_type": "stream",
     "text": [
      "Loss: 1.879447, Train accuracy: 0.348333, val accuracy: 0.337000\n",
      "Loss: 1.304748, Train accuracy: 0.556333, val accuracy: 0.556000\n",
      "Loss: 1.956359, Train accuracy: 0.656000, val accuracy: 0.624000\n",
      "Loss: 1.024287, Train accuracy: 0.694556, val accuracy: 0.664000\n",
      "Loss: 0.613987, Train accuracy: 0.698444, val accuracy: 0.639000\n",
      "Loss: 0.919450, Train accuracy: 0.718889, val accuracy: 0.664000\n",
      "Loss: 0.779722, Train accuracy: 0.736000, val accuracy: 0.696000\n",
      "Loss: 1.615497, Train accuracy: 0.750667, val accuracy: 0.696000\n",
      "Loss: 0.566291, Train accuracy: 0.770667, val accuracy: 0.716000\n",
      "Loss: 0.607088, Train accuracy: 0.787111, val accuracy: 0.705000\n",
      "Loss: 1.166205, Train accuracy: 0.813556, val accuracy: 0.729000\n",
      "Loss: 0.360461, Train accuracy: 0.791000, val accuracy: 0.706000\n",
      "Loss: 0.569186, Train accuracy: 0.816444, val accuracy: 0.720000\n",
      "Loss: 0.388984, Train accuracy: 0.806667, val accuracy: 0.700000\n",
      "Loss: 1.451418, Train accuracy: 0.841444, val accuracy: 0.729000\n",
      "Loss: 0.818599, Train accuracy: 0.825000, val accuracy: 0.722000\n",
      "Loss: 0.668124, Train accuracy: 0.858000, val accuracy: 0.735000\n",
      "Loss: 0.855746, Train accuracy: 0.841333, val accuracy: 0.731000\n",
      "Loss: 0.218870, Train accuracy: 0.856556, val accuracy: 0.735000\n",
      "Loss: 0.608227, Train accuracy: 0.827667, val accuracy: 0.709000\n",
      "Loss: 0.890944, Train accuracy: 0.826667, val accuracy: 0.708000\n",
      "Loss: 0.318831, Train accuracy: 0.867778, val accuracy: 0.734000\n",
      "Loss: 0.244107, Train accuracy: 0.872333, val accuracy: 0.742000\n",
      "Loss: 0.190491, Train accuracy: 0.891556, val accuracy: 0.740000\n",
      "Loss: 0.313132, Train accuracy: 0.875444, val accuracy: 0.734000\n",
      "Loss: 0.399905, Train accuracy: 0.914778, val accuracy: 0.751000\n",
      "Loss: 0.481349, Train accuracy: 0.913222, val accuracy: 0.749000\n",
      "Loss: 0.279548, Train accuracy: 0.922889, val accuracy: 0.758000\n",
      "Loss: 0.673536, Train accuracy: 0.887444, val accuracy: 0.734000\n",
      "Loss: 0.191368, Train accuracy: 0.893222, val accuracy: 0.720000\n",
      "best validation accuracy achieved: 0.758000\n"
     ]
    }
   ],
   "source": [
    "# Let's train the best one-hidden-layer network we can\n",
    "\n",
    "learning_rates = [2e-2]\n",
    "reg_strength = [1e-5]\n",
    "learning_rate_decay = [0.99]\n",
    "hidden_layer_size = [100]\n",
    "num_epochs = [30]\n",
    "batch_size = [20]\n",
    "\n",
    "best_classifier = None\n",
    "best_val_accuracy = None\n",
    "\n",
    "loss_history = []\n",
    "train_history = []\n",
    "val_history = []\n",
    "\n",
    "# TODO find the best hyperparameters to train the network\n",
    "# Don't hesitate to add new values to the arrays above, perform experiments, use any tricks you want\n",
    "# You should expect to get to at least 40% of valudation accuracy\n",
    "# Save loss/train/history of the best classifier to the variables above\n",
    "i = 0\n",
    "model = TwoLayerNet(n_input = train_X.shape[1], n_output = 10, hidden_layer_size = hidden_layer_size[i], reg = reg_strength[i])\n",
    "dataset = Dataset(train_X, train_y, val_X, val_y)\n",
    "trainer = Trainer(model, dataset, MomentumSGD(), batch_size=batch_size[i], num_epochs=num_epochs[i], learning_rate=learning_rates[i], learning_rate_decay=learning_rate_decay[i])\n",
    "\n",
    "# You should see even better results than before!\n",
    "loss_history, train_history, val_history = trainer.fit()\n",
    "best_val_accuracy = np.max(val_history)\n",
    "best_classifier = model\n",
    "\n",
    "print('best validation accuracy achieved: %f' % best_val_accuracy)"
   ]
  },
  {
   "cell_type": "code",
   "execution_count": 20,
   "metadata": {},
   "outputs": [
    {
     "data": {
      "text/plain": [
       "[<matplotlib.lines.Line2D at 0xb361be518>]"
      ]
     },
     "execution_count": 20,
     "metadata": {},
     "output_type": "execute_result"
    },
    {
     "data": {
      "image/png": "[encoded data removed]",
      "text/plain": [
       "<Figure size 1080x504 with 2 Axes>"
      ]
     },
     "metadata": {},
     "output_type": "display_data"
    }
   ],
   "source": [
    "plt.figure(figsize=(15, 7))\n",
    "plt.subplot(211)\n",
    "plt.title(\"Loss\")\n",
    "plt.plot(loss_history)\n",
    "plt.subplot(212)\n",
    "plt.title(\"Train/validation accuracy\")\n",
    "plt.plot(train_history)\n",
    "plt.plot(val_history)"
   ]
  },
  {
   "cell_type": "markdown",
   "metadata": {},
   "source": [
    "# Как обычно, посмотрим, как наша лучшая модель работает на тестовых данных"
   ]
  },
  {
   "cell_type": "code",
   "execution_count": 21,
   "metadata": {},
   "outputs": [
    {
     "name": "stdout",
     "output_type": "stream",
     "text": [
      "Neural net test set accuracy: 0.701000\n"
     ]
    }
   ],
   "source": [
    "test_pred = best_classifier.predict(test_X)\n",
    "test_accuracy = multiclass_accuracy(test_pred, test_y)\n",
    "print('Neural net test set accuracy: %f' % (test_accuracy, ))"
   ]
  }
 ],
 "metadata": {
  "kernelspec": {
   "display_name": "Python 3",
   "language": "python",
   "name": "python3"
  },
  "language_info": {
   "codemirror_mode": {
    "name": "ipython",
    "version": 3
   },
   "file_extension": ".py",
   "mimetype": "text/x-python",
   "name": "python",
   "nbconvert_exporter": "python",
   "pygments_lexer": "ipython3",
   "version": "3.6.8"
  }
 },
 "nbformat": 4,
 "nbformat_minor": 2
}
